{
 "cells": [
  {
   "cell_type": "code",
   "execution_count": 1,
   "metadata": {},
   "outputs": [],
   "source": [
    "import matplotlib.pyplot as plt\n",
    "import itertools\n",
    "import random\n",
    "import copy"
   ]
  },
  {
   "cell_type": "code",
   "execution_count": 23,
   "metadata": {},
   "outputs": [],
   "source": [
    "class Schelling:\n",
    "    \n",
    "    \n",
    "    def __init__(self, width, height, empty_ratio, similarity_threshold, n_iterations, races):\n",
    "        self.width = width\n",
    "        self.height = height\n",
    "        self.n = width * height\n",
    "        self.empty_ratio = empty_ratio\n",
    "        self.similarity_threshold = similarity_threshold\n",
    "        self.n_iterations = n_iterations\n",
    "        self.races = races\n",
    "    \n",
    "    def populate(self):\n",
    "        self.empty_houses = []\n",
    "        self.agents = {}\n",
    "        self.all_houses = list(itertools.product(list(range(self.width)),list(range(self.height))))\n",
    "        random.shuffle(self.all_houses)\n",
    "        self.n_empty = int(self.empty_ratio * self.n)\n",
    "        self.empty_houses = self.all_houses[-self.n_empty:]\n",
    "        self.remaining_houses = self.all_houses[:self.n - self.n_empty]\n",
    "        for n in self.remaining_houses:\n",
    "            b = random.randint(1,self.races)\n",
    "            self.agents[n] = b\n",
    "        print(self.all_houses)\n",
    "        print(self.empty_houses)\n",
    "        print(self.remaining_houses)\n",
    "        print(self.agents)\n"
   ]
  },
  {
   "cell_type": "markdown",
   "metadata": {},
   "source": [
    "#### B. Write a method called **populate** which can be used to create an initial distribution of people in the grid.\n",
    "\n",
    "To do this, we will try to design the method as follows:\n",
    "\n",
    "1. the method creates new attributes: ```self.empty_houses``` as an empty list, ```self.agents``` as an empty dictionary. \n",
    "2. the method creates a new attribute ```self.all_houses``` as a list of all houses (hint: use ```itertools```, see suggestions below)\n",
    "3. the method randomizes the allocation of houses (hint: use ```random.shuffle()``` for this task, see below)\n",
    "4. the method creates a new attribute ```self.n_empty``` which is derived as the number of the empty houses (this is calculated by using the ```self.empty_ratio``` and the number of houses in the city )\n",
    "5. the method sets the empty_houses to be the last ```self.n_empty``` houses\n",
    "6. the remaining houses are assigned to ```self.remaining_houses```\n",
    "7. we use ```self.remainging_houses``` to assign races to each house, creating a variable called ```houses_by_races```\n",
    "8. we fill the dictionary ```self.agents``` with the ```house_by_race``` in which each agent lives (hint: use ```zip``` and the ```update``` method for dictionaries.\n"
   ]
  },
  {
   "cell_type": "code",
   "execution_count": 26,
   "metadata": {},
   "outputs": [
    {
     "name": "stdout",
     "output_type": "stream",
     "text": [
      "[(0, 1), (1, 0), (0, 0), (2, 0), (3, 1), (2, 3), (2, 4), (1, 2), (3, 3), (2, 1), (1, 3), (0, 3), (3, 2), (1, 4), (0, 2), (1, 1), (2, 2), (0, 4), (3, 0), (3, 4)]\n",
      "[(2, 2), (0, 4), (3, 0), (3, 4)]\n",
      "[(0, 1), (1, 0), (0, 0), (2, 0), (3, 1), (2, 3), (2, 4), (1, 2), (3, 3), (2, 1), (1, 3), (0, 3), (3, 2), (1, 4), (0, 2), (1, 1)]\n",
      "{(0, 1): 3, (1, 0): 2, (0, 0): 3, (2, 0): 3, (3, 1): 2, (2, 3): 3, (2, 4): 3, (1, 2): 1, (3, 3): 2, (2, 1): 2, (1, 3): 3, (0, 3): 1, (3, 2): 2, (1, 4): 2, (0, 2): 3, (1, 1): 2}\n"
     ]
    }
   ],
   "source": [
    "test = Schelling(4,5,0.2,5,4,3)\n",
    "test.populate()"
   ]
  },
  {
   "cell_type": "code",
   "execution_count": null,
   "metadata": {},
   "outputs": [],
   "source": []
  },
  {
   "cell_type": "code",
   "execution_count": 4,
   "metadata": {},
   "outputs": [
    {
     "name": "stdout",
     "output_type": "stream",
     "text": [
      "[1, 2, 3, 4, 5, 6, 7]\n"
     ]
    }
   ],
   "source": [
    "width=8\n",
    "widths=[]\n",
    "x = range(1, width)\n",
    "for n in x:\n",
    "    widths.append(n)\n",
    "print(widths)"
   ]
  },
  {
   "cell_type": "code",
   "execution_count": 5,
   "metadata": {},
   "outputs": [
    {
     "name": "stdout",
     "output_type": "stream",
     "text": [
      "[(4, 1), (6, 2), (0, 3), (6, 0), (6, 1), (3, 0), (5, 0), (0, 2), (4, 3), (4, 2), (0, 0), (3, 2), (0, 1), (5, 1), (1, 2), (7, 2), (3, 1), (5, 2), (2, 1), (2, 0), (2, 2), (7, 0), (7, 3), (1, 3), (4, 0), (2, 3), (7, 1), (6, 3), (3, 3), (1, 0), (5, 3), (1, 1)]\n"
     ]
    }
   ],
   "source": [
    "width = 8\n",
    "height = 4\n",
    "a= list(itertools.product(list(range(width)),list(range(height))))\n",
    "random.shuffle(a)\n",
    "print(a)"
   ]
  },
  {
   "cell_type": "code",
   "execution_count": 6,
   "metadata": {},
   "outputs": [
    {
     "name": "stdout",
     "output_type": "stream",
     "text": [
      "[(5, 3), (1, 1)]\n",
      "[(4, 1), (6, 2), (0, 3), (6, 0), (6, 1), (3, 0), (5, 0), (0, 2), (4, 3), (4, 2), (0, 0), (3, 2), (0, 1), (5, 1), (1, 2), (7, 2), (3, 1), (5, 2), (2, 1), (2, 0), (2, 2), (7, 0), (7, 3), (1, 3), (4, 0), (2, 3), (7, 1), (6, 3), (3, 3), (1, 0)]\n"
     ]
    }
   ],
   "source": [
    "c=2\n",
    "b = a[-c:]\n",
    "d=a[:32-c]\n",
    "print(b)\n",
    "print(d)"
   ]
  },
  {
   "cell_type": "code",
   "execution_count": 7,
   "metadata": {},
   "outputs": [
    {
     "name": "stdout",
     "output_type": "stream",
     "text": [
      "{(4, 1): 1, (6, 2): 2, (0, 3): 5, (6, 0): 5, (6, 1): 4, (3, 0): 5, (5, 0): 1, (0, 2): 1, (4, 3): 5, (4, 2): 2, (0, 0): 1, (3, 2): 2, (0, 1): 2, (5, 1): 3, (1, 2): 1, (7, 2): 4, (3, 1): 4, (5, 2): 1, (2, 1): 3, (2, 0): 4, (2, 2): 2, (7, 0): 4, (7, 3): 4, (1, 3): 1, (4, 0): 3, (2, 3): 3, (7, 1): 3, (6, 3): 4, (3, 3): 2, (1, 0): 3}\n"
     ]
    }
   ],
   "source": [
    "x = {}\n",
    "for n in d:\n",
    "    y = n\n",
    "    b = random.randint(1,5)\n",
    "    x[y] = b\n",
    "print(x)"
   ]
  },
  {
   "cell_type": "code",
   "execution_count": null,
   "metadata": {},
   "outputs": [],
   "source": []
  },
  {
   "cell_type": "code",
   "execution_count": null,
   "metadata": {},
   "outputs": [],
   "source": []
  }
 ],
 "metadata": {
  "kernelspec": {
   "display_name": "Python 3",
   "language": "python",
   "name": "python3"
  },
  "language_info": {
   "codemirror_mode": {
    "name": "ipython",
    "version": 3
   },
   "file_extension": ".py",
   "mimetype": "text/x-python",
   "name": "python",
   "nbconvert_exporter": "python",
   "pygments_lexer": "ipython3",
   "version": "3.8.5"
  }
 },
 "nbformat": 4,
 "nbformat_minor": 4
}
