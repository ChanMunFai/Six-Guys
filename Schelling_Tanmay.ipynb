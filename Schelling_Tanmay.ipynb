{
 "cells": [
  {
   "cell_type": "code",
   "execution_count": 3,
   "metadata": {},
   "outputs": [],
   "source": [
    "import matplotlib.pyplot as plt\n",
    "import itertools\n",
    "import random\n",
    "import copy\n",
    "import itertools\n",
    "import numpy as np"
   ]
  },
  {
   "cell_type": "code",
   "execution_count": 29,
   "metadata": {},
   "outputs": [],
   "source": [
    "class Schelling:\n",
    "    \n",
    "    def __init__(self, width, height, empty_ratio, similarity_threshold, n_iterations, races):\n",
    "        self.width = width\n",
    "        self.height = height\n",
    "        self.empty_ratio = empty_ratio\n",
    "        self.similarity_threshold = similarity_threshold\n",
    "        self.n_iterations = n_iterations\n",
    "        self.races = races\n",
    "        \n",
    "    def populate(self):\n",
    "        self.empty_houses = []\n",
    "        self.agents = {}\n",
    "        self.all_houses = list(itertools.product(range(self.width), range(self.height)))\n",
    "        random.shuffle(self.all_houses)\n",
    "        self.n_empty = int(self.empty_ratio * len(self.all_houses))\n",
    "        self.empty_houses = self.all_houses[:self.n_empty]\n",
    "        self.remaining_houses = self.all_houses[self.n_empty:]\n",
    "        houses_by_races = []\n",
    "        for i in range(self.races):\n",
    "            houses_by_races.append(self.remaining_houses[i::self.races])  \n",
    "            race = [i]*len(houses_by_races[i])\n",
    "            self.agents.update(zip(houses_by_races[i], race))\n",
    "            \n",
    "    def plot_city(self):\n",
    "        fig, ax = plt.subplots(figsize=(self.width*0.5, self.height*0.5))\n",
    "        ax.set_xlim([-1, self.width-1])\n",
    "        ax.set_ylim([-1, self.height-1])\n",
    "        ax.set_xticks(np.arange(0, self.width, 1))\n",
    "        ax.set_yticks(np.arange(0, self.height, 1))\n",
    "        ax.xaxis.set_ticklabels([])\n",
    "        ax.xaxis.set_ticks_position('none')\n",
    "        ax.yaxis.set_ticklabels([])\n",
    "        ax.yaxis.set_ticks_position('none')\n",
    "        ax.grid()\n",
    "        cols = ['r', 'g', 'b', 'c', 'm', 'y', 'k']           \n",
    "        for key, value in self.agents.items():           \n",
    "            x = key[0]-0.5\n",
    "            y = key[1]-0.5\n",
    "            ax.scatter(x, y, c=cols[value], marker='s', s=500)\n",
    "        \n",
    "    def is_unsatisfied(self, location):\n",
    "        race = self.agents[location]\n",
    "        locs = [[0, 0], [0, 1], [0, 2], [1, 0], [1, 2], [2, 0], [2, 1], [2, 2]]\n",
    "        same_race = 0\n",
    "        diff_race = 0\n",
    "        x = location[0]-1\n",
    "        y = location[1]-1\n",
    "        for i in locs:\n",
    "            nbor = []\n",
    "            nbor.append(i[0] + x)\n",
    "            nbor.append(i[1] + y)\n",
    "            nbor_tup = tuple(nbor)\n",
    "            if nbor_tup in self.agents:\n",
    "                if self.agents[nbor_tup] == race:\n",
    "                    same_race += 1\n",
    "                else:\n",
    "                    diff_race += 1\n",
    "        if same_race == diff_race == 0:\n",
    "            return False\n",
    "        elif same_race/(same_race + diff_race) < self.similarity_threshold:\n",
    "            return True\n",
    "        else:\n",
    "            return False  \n",
    "    \n",
    "    def update(self):\n",
    "        sim_indices = []\n",
    "        for j in range(self.n_iterations):\n",
    "            for i in self.agents:\n",
    "                if self.is_unsatisfied(i) == True:\n",
    "                    new = random.choice(self.empty_houses)\n",
    "                    self.agents[new] = self.agents[i]\n",
    "                    self.empty_houses.append(i)\n",
    "                    self.empty_houses.remove(new)\n",
    "                    del self.agents[i]\n",
    "            sim_indices.append(self.similarity())\n",
    "            if j==0 or j==self.n_iterations-1:\n",
    "                self.plot_city()\n",
    "                print(self.similarity())\n",
    "        self.sim_graph(sim_indices)\n",
    "    \n",
    "    def similarity(self):\n",
    "        sim_index = 0\n",
    "        for i in self.agents:\n",
    "            race = self.agents[i]\n",
    "            locs = [[0, 0], [0, 1], [0, 2], [1, 0], [1, 2], [2, 0], [2, 1], [2, 2]]\n",
    "            same_race = 0\n",
    "            diff_race = 0\n",
    "            x = i[0]-1\n",
    "            y = i[1]-1\n",
    "            for i in locs:\n",
    "                nbor = []\n",
    "                nbor.append(i[0] + x)\n",
    "                nbor.append(i[1] + y)\n",
    "                nbor_tup = tuple(nbor)\n",
    "                if nbor_tup in self.agents:\n",
    "                    if self.agents[nbor_tup] == race:\n",
    "                        same_race += 1\n",
    "                    else:\n",
    "                        diff_race += 1\n",
    "            if same_race == diff_race == 0:\n",
    "                sim_index += 0\n",
    "            else:\n",
    "                sim_index += (same_race/(same_race + diff_race))\n",
    "        return sim_index/len(self.agents)  \n",
    "    \n",
    "    def sim_graph(self, sim_indices):\n",
    "        fig, ax = plt.subplots(figsize=(self.width*0.5, self.height*0.5))\n",
    "        for i in range(len(sim_indices)):\n",
    "            ax.scatter(i, sim_indices[i])\n",
    "        ax.plot(range(len(sim_indices)), sim_indices)"
   ]
  },
  {
   "cell_type": "code",
   "execution_count": 31,
   "metadata": {},
   "outputs": [
    {
     "name": "stdout",
     "output_type": "stream",
     "text": [
      "0.2917833800186743\n",
      "0.9341363211951448\n"
     ]
    },
    {
     "data": {
      "image/png": "[encoded data removed]",
      "text/plain": [
       "<Figure size 1080x360 with 1 Axes>"
      ]
     },
     "metadata": {
      "needs_background": "light"
     },
     "output_type": "display_data"
    },
    {
     "data": {
      "image/png": "[encoded data removed]",
      "text/plain": [
       "<Figure size 1080x360 with 1 Axes>"
      ]
     },
     "metadata": {
      "needs_background": "light"
     },
     "output_type": "display_data"
    },
    {
     "data": {
      "image/png": "[encoded data removed]",
      "text/plain": [
       "<Figure size 1080x360 with 1 Axes>"
      ]
     },
     "metadata": {
      "needs_background": "light"
     },
     "output_type": "display_data"
    }
   ],
   "source": [
    "test = Schelling(30, 10, 0.15, 0.60, 28, 4)\n",
    "test.populate()\n",
    "test.update() "
   ]
  },
  {
   "cell_type": "code",
   "execution_count": 9,
   "metadata": {},
   "outputs": [
    {
     "name": "stdout",
     "output_type": "stream",
     "text": [
      "0.46264239028944915\n"
     ]
    }
   ],
   "source": [
    "print(test.similarity())"
   ]
  },
  {
   "cell_type": "code",
   "execution_count": 4,
   "metadata": {},
   "outputs": [
    {
     "name": "stdout",
     "output_type": "stream",
     "text": [
      "[ 0  2  4  6  8 10]\n"
     ]
    }
   ],
   "source": [
    "import numpy as np\n",
    "t = np.arange(11)\n",
    "print(t[0::2])"
   ]
  },
  {
   "cell_type": "code",
   "execution_count": 5,
   "metadata": {},
   "outputs": [
    {
     "name": "stdout",
     "output_type": "stream",
     "text": [
      "[[(3, 9), (5, 0)]]\n",
      "[[(3, 9), (5, 0)], [(2, 8), (4, 0)]]\n",
      "[[(3, 9), (5, 0)], [(2, 8), (4, 0)], [(1, 7), (8, 0)]]\n",
      "[[(3, 9), (5, 0)], [(2, 8), (4, 0)], [(1, 7), (8, 0)], [(2, 5)]]\n",
      "[[(3, 9), (5, 0)], [(2, 8), (4, 0)], [(1, 7), (8, 0)], [(2, 5)], [(6, 7)]]\n",
      "{(2, 5): 4}\n"
     ]
    }
   ],
   "source": [
    "    remaining = [(3, 9), (2, 8), (1, 7), (2, 5), (6, 7), (5, 0), (4, 0), (8, 0)]\n",
    "    houses_by_races = []   \n",
    "    agents = {}\n",
    "    for i in range(5):\n",
    "            houses_by_races.append(remaining[i::5])  \n",
    "            print(houses_by_races)\n",
    "            races = [i]*len(houses_by_races[i-1])\n",
    "            agents = dict(zip(houses_by_races[i-1], races))\n",
    "            \n",
    "    print(agents)"
   ]
  },
  {
   "cell_type": "code",
   "execution_count": 6,
   "metadata": {},
   "outputs": [
    {
     "name": "stdout",
     "output_type": "stream",
     "text": [
      "[(0, 0), (0, 1), (0, 2), (1, 0), (1, 2), (2, 0), (2, 1), (2, 2)]\n"
     ]
    }
   ],
   "source": [
    "region = list(itertools.product(range(3), range(3)))\n",
    "region.pop(4)\n",
    "print(region)"
   ]
  },
  {
   "cell_type": "code",
   "execution_count": 7,
   "metadata": {},
   "outputs": [
    {
     "name": "stdout",
     "output_type": "stream",
     "text": [
      "[1, 1]\n",
      "[1, 2]\n",
      "[1, 3]\n",
      "[2, 1]\n",
      "[2, 3]\n",
      "[3, 1]\n",
      "[3, 2]\n",
      "[3, 3]\n"
     ]
    }
   ],
   "source": [
    "locs = [[0, 0], [0, 1], [0, 2], [1, 0], [1, 2], [2, 0], [2, 1], [2, 2]]\n",
    "nbor = []\n",
    "for i in locs:\n",
    "    nbor = []\n",
    "    nbor.append(i[0]+1)\n",
    "    nbor.append(i[1]+1)\n",
    "    print(nbor)"
   ]
  }
 ],
 "metadata": {
  "kernelspec": {
   "display_name": "Python 3",
   "language": "python",
   "name": "python3"
  },
  "language_info": {
   "codemirror_mode": {
    "name": "ipython",
    "version": 3
   },
   "file_extension": ".py",
   "mimetype": "text/x-python",
   "name": "python",
   "nbconvert_exporter": "python",
   "pygments_lexer": "ipython3",
   "version": "3.7.6"
  }
 },
 "nbformat": 4,
 "nbformat_minor": 4
}
