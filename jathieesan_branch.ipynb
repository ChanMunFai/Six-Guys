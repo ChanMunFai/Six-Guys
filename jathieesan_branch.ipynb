{
 "cells": [
  {
   "cell_type": "code",
   "execution_count": 1,
   "metadata": {},
   "outputs": [],
   "source": [
    "import matplotlib.pyplot as plt\n",
    "import itertools\n",
    "import random\n",
    "import copy\n",
    "import numpy as np"
   ]
  },
  {
   "cell_type": "code",
   "execution_count": 2,
   "metadata": {},
   "outputs": [],
   "source": [
    "class Schelling:\n",
    "        \n",
    "    def __init__(self, width, height, empty_ratio, similarity_threshold, n_iterations, races):\n",
    "        self.width = width\n",
    "        self.height = height\n",
    "        self.n = width * height\n",
    "        self.empty_ratio = empty_ratio\n",
    "        self.similarity_threshold = similarity_threshold\n",
    "        self.n_iterations = n_iterations\n",
    "        self.races = races\n",
    "    \n",
    "    def populate(self):\n",
    "        self.empty_houses = []\n",
    "        self.agents = {}\n",
    "        self.all_houses = list(itertools.product(list(range(self.width)),list(range(self.height))))\n",
    "        random.shuffle(self.all_houses)\n",
    "        self.n_empty = int(self.empty_ratio * self.n)\n",
    "        self.empty_houses = self.all_houses[-self.n_empty:]\n",
    "        self.remaining_houses = self.all_houses[:self.n - self.n_empty]\n",
    "        for n in self.remaining_houses:\n",
    "            b = random.randint(1,self.races)\n",
    "            self.agents[n] = b\n",
    "        print(self.empty_houses[:3])\n",
    "        print(self.remaining_houses[:3])\n",
    "        print(self.agents)\n",
    "    \n",
    "    def plot_city(self):\n",
    "        fig, ax = plt.subplots(figsize=(self.width*0.5, self.height*0.5))\n",
    "        cols = ['r','g','b','k','c','m','y']\n",
    "        for key,value in self.agents.items():\n",
    "            ax.scatter(key[0]+0.5, key[1]+0.5, s=500, marker = 's', c=cols[value-1]) \n",
    "        ax.set_xlim([0, self.width])\n",
    "        ax.set_ylim([0, self.height])\n",
    "        ax.set_xticks(np.arange(0, self.width, 1))\n",
    "        ax.set_yticks(np.arange(0, self.height, 1))\n",
    "        ax.grid()\n",
    "        plt.show()\n",
    "\n",
    "    def is_unsatisfied(self, house):\n",
    "        race = self.agents[house]\n",
    "        locs = [[0, 0], [0, 1], [0, 2], [1, 0], [1, 2], [2, 0], [2, 1], [2, 2]]\n",
    "        same_race = 0\n",
    "        diff_race = 0\n",
    "        x = house[0]-1\n",
    "        y = house[1]-1\n",
    "        for i in locs:\n",
    "            nbor = []\n",
    "            nbor.append(i[0] + x)\n",
    "            nbor.append(i[1] + y)\n",
    "            nbor_tup = tuple(nbor)\n",
    "            if nbor_tup in self.agents:\n",
    "                if self.agents[nbor_tup] == race:\n",
    "                    same_race += 1\n",
    "                else:\n",
    "                    diff_race += 1\n",
    "        if same_race == diff_race == 0:\n",
    "            return False\n",
    "        elif same_race/(same_race + diff_race) < self.similarity_threshold:\n",
    "            return True\n",
    "        else:\n",
    "            return False \n",
    "        \n",
    "    def update(self,show_new=False,show_old=False):\n",
    "        if show_old == True:\n",
    "            print(\"Original:\")\n",
    "            self.plot_city()\n",
    "        count = 0\n",
    "        for house in self.remaining_houses:\n",
    "            if self.is_unsatisfied(house)==True:\n",
    "                race = self.agents[house]\n",
    "                random.shuffle(self.empty_houses)\n",
    "                new_house = self.empty_houses[0]\n",
    "                self.remaining_houses.append(new_house)\n",
    "                self.empty_houses.remove(new_house)\n",
    "                self.remaining_houses.remove(house)\n",
    "                self.empty_houses.append(house)\n",
    "                self.agents.pop(house)\n",
    "                self.agents[new_house] = race\n",
    "                count += 1\n",
    "        if show_new == True:\n",
    "            print(count)\n",
    "            print(\"New:\")\n",
    "            self.plot_city()\n",
    "\n",
    "    def sim(self):\n",
    "        exclusions = []\n",
    "        sim_index_list = []\n",
    "        for house in self.agents:\n",
    "            race = self.agents[house]\n",
    "            locs = [[0, 0], [0, 1], [0, 2], [1, 0], [1, 2], [2, 0], [2, 1], [2, 2]]\n",
    "            same_race = 0\n",
    "            diff_race = 0\n",
    "            x = house[0]-1\n",
    "            y = house[1]-1\n",
    "            for i in locs:\n",
    "                nbor = []\n",
    "                nbor.append(i[0] + x)\n",
    "                nbor.append(i[1] + y)\n",
    "                nbor_tup = tuple(nbor)\n",
    "                if nbor_tup in self.agents:\n",
    "                    if self.agents[nbor_tup] == race:\n",
    "                        same_race += 1\n",
    "                    else:\n",
    "                        diff_race += 1\n",
    "            if same_race == diff_race == 0:\n",
    "                exclusions.append(house)\n",
    "            else:\n",
    "                sim_ratio = same_race / (same_race + diff_race)\n",
    "                sim_index_list.append(sim_ratio)\n",
    "        sim_index = sum(sim_index_list) / len(sim_index_list)\n",
    "        print(sim_index)\n",
    "        if exclusions != []:\n",
    "            print(\"Exclusions: \", exclusions)\n",
    "\n"
   ]
  },
  {
   "cell_type": "code",
   "execution_count": 3,
   "metadata": {
    "scrolled": false
   },
   "outputs": [
    {
     "name": "stdout",
     "output_type": "stream",
     "text": [
      "[(9, 2), (15, 3), (19, 3)]\n",
      "[(2, 4), (16, 7), (2, 0)]\n",
      "{(2, 4): 1, (16, 7): 2, (2, 0): 3, (19, 0): 3, (14, 1): 1, (13, 7): 3, (9, 8): 2, (6, 8): 1, (7, 9): 1, (12, 5): 1, (0, 9): 2, (3, 5): 3, (4, 7): 2, (14, 9): 1, (18, 3): 1, (2, 3): 3, (18, 5): 3, (17, 2): 1, (13, 3): 3, (18, 4): 1, (17, 7): 1, (6, 2): 3, (8, 2): 2, (10, 2): 2, (15, 7): 1, (3, 7): 2, (0, 3): 1, (18, 0): 2, (8, 7): 2, (7, 6): 1, (4, 1): 1, (5, 6): 3, (12, 4): 1, (1, 9): 3, (2, 8): 2, (10, 8): 3, (7, 0): 3, (3, 1): 2, (1, 2): 2, (12, 1): 2, (14, 5): 2, (11, 0): 1, (7, 8): 2, (4, 9): 3, (7, 3): 2, (13, 2): 2, (2, 6): 3, (13, 0): 1, (5, 0): 3, (11, 1): 2, (3, 2): 2, (5, 1): 1, (15, 5): 1, (5, 4): 2, (1, 8): 1, (15, 6): 1, (2, 7): 2, (7, 5): 1, (19, 5): 2, (15, 1): 2, (12, 7): 1, (19, 2): 1, (6, 6): 1, (14, 3): 1, (4, 8): 1, (17, 3): 1, (0, 6): 2, (10, 3): 3, (10, 4): 1, (4, 2): 2, (6, 0): 2, (2, 1): 2, (16, 6): 2, (19, 9): 1, (1, 0): 1, (8, 1): 2, (0, 8): 3, (17, 4): 1, (9, 9): 3, (1, 1): 2, (10, 0): 3, (13, 8): 3, (7, 2): 3, (13, 9): 3, (1, 5): 1, (16, 1): 3, (14, 6): 3, (4, 3): 1, (16, 0): 1, (16, 3): 2, (8, 0): 2, (19, 7): 1, (19, 4): 2, (19, 8): 3, (13, 5): 1, (2, 9): 3, (9, 4): 1, (7, 4): 3, (12, 8): 3, (17, 0): 1, (8, 3): 2, (4, 0): 2, (8, 8): 1, (4, 5): 2, (3, 4): 3, (11, 8): 2, (2, 2): 3, (19, 1): 2, (4, 4): 3, (14, 4): 3, (17, 8): 3, (11, 5): 3, (9, 7): 3, (1, 3): 3, (17, 9): 3, (13, 1): 1, (16, 4): 3, (11, 9): 1, (3, 8): 2, (3, 0): 2, (0, 7): 3, (16, 9): 3, (9, 1): 2, (9, 0): 3, (7, 7): 2, (15, 0): 3, (8, 9): 1, (5, 2): 3, (8, 4): 3, (14, 0): 2, (2, 5): 3, (12, 0): 3, (6, 3): 1, (7, 1): 2, (5, 9): 3, (17, 1): 2, (8, 5): 3, (5, 5): 1, (3, 3): 2, (9, 5): 1, (12, 2): 3, (10, 9): 1, (13, 6): 1, (18, 7): 1, (3, 6): 3, (18, 9): 1, (11, 6): 2, (18, 2): 3, (14, 8): 3, (14, 2): 1}\n",
      "Original:\n"
     ]
    },
    {
     "data": {
      "image/png": "[encoded data removed]",
      "text/plain": [
       "<Figure size 720x360 with 1 Axes>"
      ]
     },
     "metadata": {
      "needs_background": "light"
     },
     "output_type": "display_data"
    },
    {
     "name": "stdout",
     "output_type": "stream",
     "text": [
      "53\n",
      "New:\n"
     ]
    },
    {
     "data": {
      "image/png": "[encoded data removed]",
      "text/plain": [
       "<Figure size 720x360 with 1 Axes>"
      ]
     },
     "metadata": {
      "needs_background": "light"
     },
     "output_type": "display_data"
    },
    {
     "name": "stdout",
     "output_type": "stream",
     "text": [
      "0.4804047619047618\n"
     ]
    }
   ],
   "source": [
    "test = Schelling(20,10,0.25,0.3,4,3)\n",
    "test.populate()\n",
    "test.update(True,True)\n",
    "test.sim()"
   ]
  },
  {
   "cell_type": "code",
   "execution_count": 4,
   "metadata": {
    "scrolled": false
   },
   "outputs": [
    {
     "name": "stdout",
     "output_type": "stream",
     "text": [
      "44\n",
      "New:\n"
     ]
    },
    {
     "data": {
      "image/png": "[encoded data removed]",
      "text/plain": [
       "<Figure size 720x360 with 1 Axes>"
      ]
     },
     "metadata": {
      "needs_background": "light"
     },
     "output_type": "display_data"
    },
    {
     "name": "stdout",
     "output_type": "stream",
     "text": [
      "0.6028650793650794\n"
     ]
    }
   ],
   "source": [
    "test.update(True)\n",
    "test.sim()"
   ]
  },
  {
   "cell_type": "code",
   "execution_count": 5,
   "metadata": {},
   "outputs": [],
   "source": [
    "#test.sim()"
   ]
  },
  {
   "cell_type": "code",
   "execution_count": 6,
   "metadata": {},
   "outputs": [],
   "source": [
    "# random.shuffle(test.empty_houses)\n",
    "# print(test.empty_houses[0])"
   ]
  },
  {
   "cell_type": "code",
   "execution_count": 7,
   "metadata": {},
   "outputs": [],
   "source": [
    "# empty = [(6, 2), (5, 2), (9, 5), (4, 5), (18, 6), (2, 1), (17, 0), (11, 6), (3, 2), (16, 4), (6, 0), (18, 8), (12, 9), (6, 3), (10, 9), (8, 7), (13, 3), (8, 4), (14, 6), (0, 5), (4, 0), (17, 5), (2, 3), (17, 6), (16, 3), (10, 1), (18, 7), (1, 0), (5, 4), (17, 8), (11, 4), (3, 6), (1, 2), (6, 7), (3, 1), (10, 8), (11, 3), (11, 0), (6, 9), (5, 8), (12, 1), (0, 6), (16, 8), (6, 8), (19, 5), (9, 4)]\n",
    "# remaining = [(1, 1), (8, 5), (4, 2), (15, 8), (4, 8), (17, 7), (19, 0), (7, 7), (11, 5), (3, 0), (12, 2), (12, 6), (14, 8), (4, 1), (8, 9), (0, 1), (13, 2), (0, 0), (15, 6), (1, 6), (18, 9), (16, 1), (10, 4), (8, 0), (13, 0), (15, 4), (14, 2), (16, 9), (14, 5), (13, 6), (2, 2), (19, 2), (3, 9), (10, 0), (19, 9), (10, 2), (18, 5), (8, 8), (11, 1), (12, 5), (18, 4), (13, 7), (16, 0), (0, 8), (16, 2), (7, 6), (11, 9), (14, 9), (9, 3), (19, 8), (2, 4), (16, 6), (5, 3), (8, 3), (7, 1), (12, 7), (16, 5), (9, 6), (7, 8), (8, 1), (14, 0), (0, 9), (7, 3), (13, 9), (7, 4), (9, 8), (17, 9), (6, 1), (6, 5), (15, 7), (1, 4), (18, 2), (3, 7), (14, 7), (1, 3), (11, 8), (11, 7), (9, 0), (18, 1), (2, 9), (18, 0), (19, 3), (15, 2), (12, 3), (2, 7), (17, 3), (6, 4), (7, 5), (5, 7), (3, 5), (17, 2), (9, 1), (1, 5), (9, 2), (12, 0), (16, 7), (8, 6), (19, 4), (14, 1), (10, 5), (3, 3), (5, 5), (2, 0), (6, 6), (10, 3), (11, 2), (13, 8), (10, 6), (17, 1), (1, 8), (12, 8), (4, 3), (15, 1), (19, 7), (14, 4), (10, 7), (7, 2), (0, 3), (4, 7), (15, 9), (3, 8), (0, 7), (5, 1), (2, 8), (14, 3), (19, 1), (7, 0), (7, 9), (13, 5), (5, 6), (4, 4), (4, 6), (17, 4), (2, 6), (5, 0), (12, 4), (18, 3), (15, 3), (2, 5), (4, 9), (3, 4), (9, 9), (13, 4), (0, 4), (15, 5), (0, 2), (15, 0), (8, 2), (1, 7), (1, 9), (13, 1), (5, 9), (9, 7), (19, 6)]\n",
    "# agents = {(1, 1): 3, (8, 5): 1, (4, 2): 7, (15, 8): 4, (4, 8): 6, (17, 7): 4, (19, 0): 7, (7, 7): 1, (11, 5): 4, (3, 0): 1, (12, 2): 2, (12, 6): 1, (14, 8): 1, (4, 1): 2, (8, 9): 6, (0, 1): 2, (13, 2): 6, (0, 0): 3, (15, 6): 1, (1, 6): 4, (18, 9): 7, (16, 1): 1, (10, 4): 5, (8, 0): 4, (13, 0): 6, (15, 4): 7, (14, 2): 7, (16, 9): 2, (14, 5): 5, (13, 6): 3, (2, 2): 4, (19, 2): 6, (3, 9): 5, (10, 0): 4, (19, 9): 1, (10, 2): 3, (18, 5): 1, (8, 8): 6, (11, 1): 4, (12, 5): 6, (18, 4): 4, (13, 7): 3, (16, 0): 3, (0, 8): 2, (16, 2): 1, (7, 6): 5, (11, 9): 3, (14, 9): 3, (9, 3): 2, (19, 8): 1, (2, 4): 5, (16, 6): 7, (5, 3): 7, (8, 3): 1, (7, 1): 2, (12, 7): 1, (16, 5): 4, (9, 6): 6, (7, 8): 2, (8, 1): 7, (14, 0): 3, (0, 9): 7, (7, 3): 7, (13, 9): 2, (7, 4): 7, (9, 8): 1, (17, 9): 3, (6, 1): 4, (6, 5): 5, (15, 7): 6, (1, 4): 1, (18, 2): 7, (3, 7): 7, (14, 7): 7, (1, 3): 2, (11, 8): 3, (11, 7): 2, (9, 0): 3, (18, 1): 3, (2, 9): 2, (18, 0): 4, (19, 3): 2, (15, 2): 7, (12, 3): 6, (2, 7): 3, (17, 3): 7, (6, 4): 6, (7, 5): 6, (5, 7): 6, (3, 5): 7, (17, 2): 3, (9, 1): 1, (1, 5): 1, (9, 2): 5, (12, 0): 2, (16, 7): 4, (8, 6): 2, (19, 4): 2, (14, 1): 2, (10, 5): 3, (3, 3): 5, (5, 5): 3, (2, 0): 1, (6, 6): 4, (10, 3): 1, (11, 2): 5, (13, 8): 2, (10, 6): 1, (17, 1): 5, (1, 8): 4, (12, 8): 4, (4, 3): 2, (15, 1): 7, (19, 7): 4, (14, 4): 3, (10, 7): 6, (7, 2): 2, (0, 3): 7, (4, 7): 1, (15, 9): 6, (3, 8): 6, (0, 7): 5, (5, 1): 6, (2, 8): 6, (14, 3): 4, (19, 1): 1, (7, 0): 1, (7, 9): 4, (13, 5): 3, (5, 6): 4, (4, 4): 5, (4, 6): 2, (17, 4): 2, (2, 6): 4, (5, 0): 1, (12, 4): 6, (18, 3): 2, (15, 3): 3, (2, 5): 1, (4, 9): 3, (3, 4): 2, (9, 9): 3, (13, 4): 4, (0, 4): 4, (15, 5): 5, (0, 2): 1, (15, 0): 3, (8, 2): 3, (1, 7): 6, (1, 9): 6, (13, 1): 2, (5, 9): 5, (9, 7): 5, (19, 6): 4}"
   ]
  },
  {
   "cell_type": "code",
   "execution_count": 8,
   "metadata": {},
   "outputs": [],
   "source": [
    "# width = 8\n",
    "# height = 4\n",
    "# a= list(itertools.product(list(range(width)),list(range(height))))\n",
    "# random.shuffle(a)\n",
    "# print(a)"
   ]
  },
  {
   "cell_type": "code",
   "execution_count": 9,
   "metadata": {},
   "outputs": [],
   "source": [
    "# c=2\n",
    "# b = a[-c:]\n",
    "# d=a[:32-c]\n",
    "# print(b)\n",
    "# print(d)"
   ]
  },
  {
   "cell_type": "code",
   "execution_count": 10,
   "metadata": {},
   "outputs": [],
   "source": [
    "# x = {}\n",
    "# for n in d:\n",
    "#     y = n\n",
    "#     b = random.randint(1,5)\n",
    "#     x[y] = b\n",
    "# print(x)"
   ]
  },
  {
   "cell_type": "code",
   "execution_count": 11,
   "metadata": {},
   "outputs": [],
   "source": [
    "# a = {(2, 2): 3, (0, 1): 2, (1, 4): 1, (0, 2): 1, (1, 0): 1, (0, 3): 1, (2, 4): 1, (3, 4): 2, (2, 0): 2, (1, 3): 1, (0, 0): 3, (3, 0): 1, (2, 1): 1, (1, 1): 1, (2, 3): 3, (3, 3): 3}\n",
    "# width = 4\n",
    "# height = 5\n",
    "# figsize = (width, height)\n",
    "# fig, ax = plt.subplots(figsize=(width*0.5,height*0.5))\n",
    "# ax.grid()\n",
    "# cols = ['r','g','b','k','c','m','y']\n",
    "# for key,value in a.items():\n",
    "#     ax.scatter(key[0]+0.5, key[1]+0.5, s=500, marker = 's', c=cols[value-1]) \n",
    "# ax.set_xlim([0, width])\n",
    "# ax.set_ylim([0, height])\n",
    "# ax.set_xticks(np.arange(0, width, 1))\n",
    "# ax.set_yticks(np.arange(0, height, 1))\n",
    "# plt.show()"
   ]
  },
  {
   "cell_type": "code",
   "execution_count": 12,
   "metadata": {},
   "outputs": [],
   "source": [
    "# asd={(2, 2): 3, (0, 1): 2, (1, 4): 1, (0, 2): 1, (1, 0): 1, (0, 3): 1, (2, 4): 1, (3, 4): 2, (2, 0): 2, (1, 3): 1, (0, 0): 3, (3, 0): 1, (2, 1): 1, (1, 1): 1, (2, 3): 3, (3, 3): 3}\n",
    "# asd.pop((2,2))\n",
    "# print(asd)"
   ]
  }
 ],
 "metadata": {
  "kernelspec": {
   "display_name": "Python 3",
   "language": "python",
   "name": "python3"
  },
  "language_info": {
   "codemirror_mode": {
    "name": "ipython",
    "version": 3
   },
   "file_extension": ".py",
   "mimetype": "text/x-python",
   "name": "python",
   "nbconvert_exporter": "python",
   "pygments_lexer": "ipython3",
   "version": "3.8.5"
  }
 },
 "nbformat": 4,
 "nbformat_minor": 4
}
