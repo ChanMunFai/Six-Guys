{
 "cells": [
  {
   "cell_type": "code",
   "execution_count": 151,
   "id": "rolled-distribution",
   "metadata": {},
   "outputs": [],
   "source": [
    "import itertools\n",
    "import random\n",
    "\n",
    "class Schelling:\n",
    "    \n",
    "    \n",
    "    def __init__(self, width, height, empty_ratio, similarity_threshold, n_iterations, races):\n",
    "        self.width=width\n",
    "        self.height=height\n",
    "        self.empty_ratio=empty_ratio\n",
    "        self.similarity_threshold=similarity_threshold\n",
    "        self.n_iterations=n_iterations\n",
    "        self.races=races\n",
    "        \n",
    "    def populate(self):\n",
    "        self.empty_houses=[]\n",
    "        self.agents={}\n",
    "        self.a=list(range(1,self.width+1))\n",
    "        self.b=list(range(1,self.height+1))\n",
    "        self.all_houses=list(itertools.product(self.a,self.b))                     \n",
    "        random.shuffle(self.all_houses)\n",
    "        self.n_empty=round(self.empty_ratio*len(self.all_houses))\n",
    "        self.remaining_houses=self.all_houses[:len(self.all_houses)-self.n_empty]\n",
    "        self.race_list=list(range(1,self.races+1))\n",
    "        for i in range(len(self.remaining_houses)):   \n",
    "            random.shuffle(self.race_list)\n",
    "            self.chosen_one=self.race_list[0]\n",
    "            self.agents[self.remaining_houses[i]]=self.chosen_one\n",
    "        return self.agents\n",
    "        \n",
    "    def is_unsatisfied(self, coordinate_x, coordinate_y):\n",
    "        self.coordinate_x=coordinate_x\n",
    "        self.coordinate_y=coordinate_y\n",
    "        self.x2=self.coordinate_x+1\n",
    "        self.x1=self.coordinate_x-1\n",
    "        self.y2=self.coordinate_y+1\n",
    "        self.y1=self.coordinate_y-1\n",
    "        self.neighbours=[(self.x1,self.y1),(self.x2,self.y2),(self.x1,self.y2),(self.x2,self.y1),\n",
    "        (self.coordinate_x,self.y1),(self.coordinate_x,self.y2),(self.x1,self.coordinate_y),(self.x2,self.coordinate_y)]\n",
    "        self.count=0\n",
    "        if (self.coordinate_x,self.coordinate_y) not in self.agents.keys():\n",
    "            return 'Empty'\n",
    "        for i in self.neighbours:\n",
    "            if i in self.agents.keys():\n",
    "                if self.agents[i]==self.agents[(self.coordinate_x,self.coordinate_y)]:\n",
    "                    self.count+=1\n",
    "        self.tot_neighbours=0\n",
    "        for i in self.neighbours:\n",
    "            if i in self.agents.keys():\n",
    "                self.tot_neighbours+=1\n",
    "        if self.count/self.tot_neighbours < self.similarity_threshold:\n",
    "            return True\n",
    "        else:\n",
    "            return False"
   ]
  },
  {
   "cell_type": "code",
   "execution_count": 152,
   "id": "former-general",
   "metadata": {},
   "outputs": [
    {
     "name": "stdout",
     "output_type": "stream",
     "text": [
      "{(1, 1): 2, (3, 3): 2, (2, 1): 2, (3, 2): 1, (3, 1): 1, (2, 3): 1, (1, 2): 1}\n"
     ]
    }
   ],
   "source": [
    "trial=Schelling(3,3,0.2,0.4,44,2)\n",
    "print(trial.populate())"
   ]
  },
  {
   "cell_type": "code",
   "execution_count": 153,
   "id": "emotional-amendment",
   "metadata": {},
   "outputs": [
    {
     "data": {
      "text/plain": [
       "True"
      ]
     },
     "execution_count": 153,
     "metadata": {},
     "output_type": "execute_result"
    }
   ],
   "source": [
    "trial.is_unsatisfied(2,1)\n"
   ]
  },
  {
   "cell_type": "code",
   "execution_count": null,
   "id": "typical-classics",
   "metadata": {},
   "outputs": [],
   "source": [
    "import itertools\n",
    "    itertools.product(list1,list2)\n",
    "    import random\n",
    "    random.shuffle(list)"
   ]
  },
  {
   "cell_type": "code",
   "execution_count": 114,
   "id": "actual-infrastructure",
   "metadata": {
    "scrolled": true
   },
   "outputs": [
    {
     "name": "stdout",
     "output_type": "stream",
     "text": [
      "[3, 6, 1, 2, 7, 5, 4]\n"
     ]
    }
   ],
   "source": [
    "import random\n",
    "\n",
    "d = [1, 2, 3, 4, 5, 6, 7]\n",
    "random.shuffle(d)\n",
    "\n",
    "print(d)"
   ]
  },
  {
   "cell_type": "code",
   "execution_count": 54,
   "id": "american-implement",
   "metadata": {},
   "outputs": [
    {
     "name": "stdout",
     "output_type": "stream",
     "text": [
      "(1, 2)\n",
      "(2, 2)\n",
      "(3, 2)\n"
     ]
    }
   ],
   "source": [
    "dict={(1,2):3,(1,3):4}\n",
    "(1,2) in dict.keys()\n",
    "\n",
    "for i in [(1,2),(2,2),(3,2)]:\n",
    "    print(i)"
   ]
  },
  {
   "cell_type": "code",
   "execution_count": 85,
   "id": "fuzzy-blank",
   "metadata": {},
   "outputs": [
    {
     "data": {
      "text/plain": [
       "True"
      ]
     },
     "execution_count": 85,
     "metadata": {},
     "output_type": "execute_result"
    }
   ],
   "source": [
    "3==3 and 4==4"
   ]
  },
  {
   "cell_type": "code",
   "execution_count": null,
   "id": "exposed-consultation",
   "metadata": {},
   "outputs": [],
   "source": [
    "        # add the conditioning for situations where there are not 8 neighbours only here when defining self.neighbours\n",
    "        # you may need to condition for differences between the four borders\n",
    "        if self.coordinate_x==1 and self.coordinate_y==1 or (self.coordinate_x==self.width and self.coordinate_y==self.height):\n",
    "            self.neighbours=[(1,2),(2,1),(2,2)]\n",
    "\n",
    "            \n",
    "        if self.coordinate_x==1 and self.coordinate_y==1:\n",
    "            self.neighbours=[()]\n",
    "        elif self.coordinate_x==1 and self.coordinate_y==self.height:\n",
    "            self.neighbours=[()]\n",
    "        elif self.coordinate_x==self.width and self.coordinate_y==1:\n",
    "            self.neighbours=[()]\n",
    "        elif self.coordinate_x==self.width and self.coordinate_y==self.height:\n",
    "            self.neighbours=[()]\n",
    "        elif self.coordiante_x==1 and 1 < self.coordinate_y < self.height:\n",
    "            self.neighbours=[()]\n",
    "        elif self.coordinate_x==self.width and 1 < self.coordinate_y < self.height:\n",
    "            self.neighbours=[()]\n",
    "        elif 1 < self.coordinate_x < "
   ]
  },
  {
   "cell_type": "code",
   "execution_count": 88,
   "id": "incorporated-cursor",
   "metadata": {},
   "outputs": [
    {
     "data": {
      "text/plain": [
       "False"
      ]
     },
     "execution_count": 88,
     "metadata": {},
     "output_type": "execute_result"
    }
   ],
   "source": [
    "False ^ False"
   ]
  }
 ],
 "metadata": {
  "kernelspec": {
   "display_name": "Python 3",
   "language": "python",
   "name": "python3"
  },
  "language_info": {
   "codemirror_mode": {
    "name": "ipython",
    "version": 3
   },
   "file_extension": ".py",
   "mimetype": "text/x-python",
   "name": "python",
   "nbconvert_exporter": "python",
   "pygments_lexer": "ipython3",
   "version": "3.7.6"
  }
 },
 "nbformat": 4,
 "nbformat_minor": 5
}
