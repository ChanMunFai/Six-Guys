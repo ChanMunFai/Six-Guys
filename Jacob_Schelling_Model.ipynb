{
 "cells": [
  {
   "cell_type": "code",
   "execution_count": 423,
   "id": "rolled-distribution",
   "metadata": {},
   "outputs": [],
   "source": [
    "import itertools\n",
    "import random\n",
    "import matplotlib.pyplot as plt\n",
    "import numpy as np\n",
    "\n",
    "class Schelling:\n",
    "    \n",
    "    \n",
    "    def __init__(self, width, height, empty_ratio, similarity_threshold, n_iterations, races):\n",
    "        self.width=width\n",
    "        self.height=height\n",
    "        self.empty_ratio=empty_ratio\n",
    "        self.similarity_threshold=similarity_threshold\n",
    "        self.n_iterations=n_iterations\n",
    "        self.races=races\n",
    "        \n",
    "    def populate(self):\n",
    "        self.empty_houses=[]\n",
    "        self.agents={}\n",
    "        self.a=list(range(1,self.width+1))\n",
    "        self.b=list(range(1,self.height+1))\n",
    "        self.all_houses=list(itertools.product(self.a,self.b))                     \n",
    "        random.shuffle(self.all_houses)\n",
    "        self.n_empty=round(self.empty_ratio*len(self.all_houses))\n",
    "        self.remaining_houses=self.all_houses[:len(self.all_houses)-self.n_empty]\n",
    "        self.race_list=list(range(1,self.races+1))\n",
    "        for i in range(len(self.remaining_houses)):   \n",
    "            random.shuffle(self.race_list)\n",
    "            self.chosen_one=self.race_list[0]\n",
    "            self.agents[self.remaining_houses[i]]=self.chosen_one\n",
    "        return self.agents\n",
    "    \n",
    "    def plot_city(self):\n",
    "        fig, ax = plt.subplots(figsize=(self.width*0.5, self.height*0.5))\n",
    "        ax.set_xlim([0, self.width])\n",
    "        ax.set_ylim([0, self.height])\n",
    "        ax.set_xticks(np.arange(0, self.width, 1))\n",
    "        ax.set_yticks(np.arange(0, self.height, 1))\n",
    "        ax.xaxis.set_ticklabels([])\n",
    "        ax.xaxis.set_ticks_position('none')\n",
    "        ax.yaxis.set_ticklabels([])\n",
    "        ax.yaxis.set_ticks_position('none')\n",
    "        ax.grid()\n",
    "        cols = ['r', 'g', 'b', 'c', 'm', 'y', 'k']           \n",
    "        for key, value in self.agents.items():           \n",
    "            x = key[0]-0.5\n",
    "            y = key[1]-0.5\n",
    "            ax.scatter(x, y, c=cols[value-1], marker='s', s=500)\n",
    "        \n",
    "    def is_unsatisfied(self, coordinate_x, coordinate_y):\n",
    "        self.coordinate_x=coordinate_x\n",
    "        self.coordinate_y=coordinate_y\n",
    "        self.x2=self.coordinate_x+1\n",
    "        self.x1=self.coordinate_x-1\n",
    "        self.y2=self.coordinate_y+1\n",
    "        self.y1=self.coordinate_y-1\n",
    "        self.neighbours=[(self.x1,self.y1),(self.x2,self.y2),(self.x1,self.y2),(self.x2,self.y1),\n",
    "        (self.coordinate_x,self.y1),(self.coordinate_x,self.y2),(self.x1,self.coordinate_y),(self.x2,self.coordinate_y)]\n",
    "        self.count=0\n",
    "        if (self.coordinate_x,self.coordinate_y) not in self.agents.keys():\n",
    "            return 'Empty'\n",
    "        for i in self.neighbours:\n",
    "            if i in self.agents.keys():\n",
    "                if self.agents[i]==self.agents[(self.coordinate_x,self.coordinate_y)]:\n",
    "                    self.count+=1\n",
    "        self.tot_neighbours=0\n",
    "        for i in self.neighbours:\n",
    "            if i in self.agents.keys():\n",
    "                self.tot_neighbours+=1\n",
    "        if self.count/self.tot_neighbours < self.similarity_threshold:\n",
    "            return True\n",
    "        else:\n",
    "            return False\n",
    "        \n",
    "    def update(self):\n",
    "        self.empty_houses=self.all_houses[len(self.all_houses)-self.n_empty:]\n",
    "        self.key_list=list(self.agents.keys())\n",
    "        self.value_list=list(self.agents.values())\n",
    "        if len(self.empty_houses)==0:\n",
    "            return self.agents\n",
    "        for i in range(len(self.agents)):\n",
    "            self.x=list(self.agents.keys())[i][0]\n",
    "            self.y=list(self.agents.keys())[i][1]\n",
    "            if self.is_unsatisfied(self.x,self.y):\n",
    "                random.shuffle(self.empty_houses)\n",
    "                self.new_house=self.empty_houses.pop(0)\n",
    "                self.empty_houses.append(self.key_list[i])\n",
    "                self.key_list[i]=self.new_house\n",
    "        self.agents={}\n",
    "        for key in self.key_list:\n",
    "            for value in self.value_list:\n",
    "                self.agents[key] = value\n",
    "                self.value_list.remove(value)\n",
    "                break\n",
    "        return self.agents\n",
    "    \n",
    "    def sim_index(self, coordinate_x, coordinate_y):\n",
    "        self.coordinate_x=coordinate_x\n",
    "        self.coordinate_y=coordinate_y\n",
    "        self.x2=self.coordinate_x+1\n",
    "        self.x1=self.coordinate_x-1\n",
    "        self.y2=self.coordinate_y+1\n",
    "        self.y1=self.coordinate_y-1\n",
    "        self.neighbours=[(self.x1,self.y1),(self.x2,self.y2),(self.x1,self.y2),(self.x2,self.y1),\n",
    "        (self.coordinate_x,self.y1),(self.coordinate_x,self.y2),(self.x1,self.coordinate_y),(self.x2,self.coordinate_y)]\n",
    "        self.count=0\n",
    "        for i in self.neighbours:\n",
    "            if i in self.agents.keys():\n",
    "                if self.agents[i]==self.agents[(self.coordinate_x,self.coordinate_y)]:\n",
    "                    self.count+=1\n",
    "        self.tot_neighbours=0\n",
    "        for i in self.neighbours:\n",
    "            if i in self.agents.keys():\n",
    "                self.tot_neighbours+=1\n",
    "        return self.count/self.tot_neighbours\n",
    "\n",
    "# we were supposed to calculate the ratio between neighbours of the same race to neighbours of a different race but if\n",
    "# there are no neighbours of a different race, we end up dividing by zero, therefore I will just divide by total neighbours\n",
    "        \n",
    "    def sim_ratio(self):\n",
    "        self.ratios=[]\n",
    "        for i in range(len(self.agents)):\n",
    "            self.x=list(self.agents.keys())[i][0]\n",
    "            self.y=list(self.agents.keys())[i][1]\n",
    "            data_transfer=self.sim_index(self.x,self.y)\n",
    "            if self.tot_neighbours > 0: # remove any houses with no neighbours to avoid dividing by zero\n",
    "                self.ratios.append(self.sim_index(self.x,self.y))\n",
    "        self.avg_ratio=sum(self.ratios)/len(self.ratios)\n",
    "        return self.avg_ratio\n",
    "\n",
    "\n",
    "                \n",
    "                "
   ]
  },
  {
   "cell_type": "code",
   "execution_count": 424,
   "id": "former-general",
   "metadata": {},
   "outputs": [
    {
     "name": "stdout",
     "output_type": "stream",
     "text": [
      "{(3, 3): 1, (2, 2): 1, (3, 1): 2, (1, 3): 1, (1, 1): 1, (3, 2): 2, (1, 2): 1}\n"
     ]
    }
   ],
   "source": [
    "trial=Schelling(3,3,0.2,0.4,44,2)\n",
    "print(trial.populate())"
   ]
  },
  {
   "cell_type": "code",
   "execution_count": 407,
   "id": "phantom-baptist",
   "metadata": {},
   "outputs": [
    {
     "name": "stdout",
     "output_type": "stream",
     "text": [
      "None\n"
     ]
    },
    {
     "data": {
      "image/png": "[encoded data removed]",
      "text/plain": [
       "<Figure size 108x108 with 1 Axes>"
      ]
     },
     "metadata": {
      "needs_background": "light"
     },
     "output_type": "display_data"
    }
   ],
   "source": [
    "print(trial.plot_city())"
   ]
  },
  {
   "cell_type": "code",
   "execution_count": 391,
   "id": "emotional-amendment",
   "metadata": {},
   "outputs": [
    {
     "data": {
      "text/plain": [
       "'Empty'"
      ]
     },
     "execution_count": 391,
     "metadata": {},
     "output_type": "execute_result"
    }
   ],
   "source": [
    "trial.is_unsatisfied(1,3)"
   ]
  },
  {
   "cell_type": "code",
   "execution_count": 387,
   "id": "excessive-right",
   "metadata": {},
   "outputs": [
    {
     "data": {
      "text/plain": [
       "{(1, 2): 2, (2, 1): 2, (1, 3): 2, (3, 2): 1, (3, 3): 1, (3, 1): 1, (1, 1): 2}"
      ]
     },
     "execution_count": 387,
     "metadata": {},
     "output_type": "execute_result"
    }
   ],
   "source": [
    "trial.update()"
   ]
  },
  {
   "cell_type": "code",
   "execution_count": 403,
   "id": "agreed-probe",
   "metadata": {},
   "outputs": [
    {
     "data": {
      "text/plain": [
       "0.75"
      ]
     },
     "execution_count": 403,
     "metadata": {},
     "output_type": "execute_result"
    }
   ],
   "source": [
    "trial.sim_index(2,1)"
   ]
  },
  {
   "cell_type": "code",
   "execution_count": 425,
   "id": "ranking-approach",
   "metadata": {},
   "outputs": [
    {
     "data": {
      "text/plain": [
       "0.7142857142857143"
      ]
     },
     "execution_count": 425,
     "metadata": {},
     "output_type": "execute_result"
    }
   ],
   "source": [
    "trial.sim_ratio()"
   ]
  },
  {
   "cell_type": "code",
   "execution_count": null,
   "id": "typical-classics",
   "metadata": {},
   "outputs": [],
   "source": [
    "import itertools\n",
    "    itertools.product(list1,list2)\n",
    "    import random\n",
    "    random.shuffle(list)"
   ]
  },
  {
   "cell_type": "code",
   "execution_count": 114,
   "id": "actual-infrastructure",
   "metadata": {
    "scrolled": true
   },
   "outputs": [
    {
     "name": "stdout",
     "output_type": "stream",
     "text": [
      "[3, 6, 1, 2, 7, 5, 4]\n"
     ]
    }
   ],
   "source": [
    "import random\n",
    "\n",
    "d = [1, 2, 3, 4, 5, 6, 7]\n",
    "random.shuffle(d)\n",
    "\n",
    "print(d)"
   ]
  },
  {
   "cell_type": "code",
   "execution_count": 261,
   "id": "american-implement",
   "metadata": {},
   "outputs": [
    {
     "ename": "TypeError",
     "evalue": "'dict_keys' object is not subscriptable",
     "output_type": "error",
     "traceback": [
      "\u001b[1;31m---------------------------------------------------------------------------\u001b[0m",
      "\u001b[1;31mTypeError\u001b[0m                                 Traceback (most recent call last)",
      "\u001b[1;32m<ipython-input-261-48d565490da2>\u001b[0m in \u001b[0;36m<module>\u001b[1;34m\u001b[0m\n\u001b[0;32m      1\u001b[0m \u001b[0mdict\u001b[0m\u001b[1;33m=\u001b[0m\u001b[1;33m{\u001b[0m\u001b[1;33m(\u001b[0m\u001b[1;36m1\u001b[0m\u001b[1;33m,\u001b[0m\u001b[1;36m2\u001b[0m\u001b[1;33m)\u001b[0m\u001b[1;33m:\u001b[0m\u001b[1;36m3\u001b[0m\u001b[1;33m,\u001b[0m\u001b[1;33m(\u001b[0m\u001b[1;36m1\u001b[0m\u001b[1;33m,\u001b[0m\u001b[1;36m3\u001b[0m\u001b[1;33m)\u001b[0m\u001b[1;33m:\u001b[0m\u001b[1;36m4\u001b[0m\u001b[1;33m}\u001b[0m\u001b[1;33m\u001b[0m\u001b[1;33m\u001b[0m\u001b[0m\n\u001b[1;32m----> 2\u001b[1;33m \u001b[0mdict\u001b[0m\u001b[1;33m.\u001b[0m\u001b[0mkeys\u001b[0m\u001b[1;33m(\u001b[0m\u001b[1;33m)\u001b[0m\u001b[1;33m[\u001b[0m\u001b[1;36m0\u001b[0m\u001b[1;33m]\u001b[0m\u001b[1;33m\u001b[0m\u001b[1;33m\u001b[0m\u001b[0m\n\u001b[0m",
      "\u001b[1;31mTypeError\u001b[0m: 'dict_keys' object is not subscriptable"
     ]
    }
   ],
   "source": [
    "dict={(1,2):3,(1,3):4}\n",
    "dict.keys()[0]"
   ]
  },
  {
   "cell_type": "code",
   "execution_count": 85,
   "id": "angry-naples",
   "metadata": {},
   "outputs": [
    {
     "data": {
      "text/plain": [
       "True"
      ]
     },
     "execution_count": 85,
     "metadata": {},
     "output_type": "execute_result"
    }
   ],
   "source": [
    "3==3 and 4==4"
   ]
  },
  {
   "cell_type": "code",
   "execution_count": null,
   "id": "micro-marketing",
   "metadata": {},
   "outputs": [],
   "source": [
    "        # add the conditioning for situations where there are not 8 neighbours only here when defining self.neighbours\n",
    "        # you may need to condition for differences between the four borders\n",
    "        if self.coordinate_x==1 and self.coordinate_y==1 or (self.coordinate_x==self.width and self.coordinate_y==self.height):\n",
    "            self.neighbours=[(1,2),(2,1),(2,2)]\n",
    "\n",
    "            \n",
    "        if self.coordinate_x==1 and self.coordinate_y==1:\n",
    "            self.neighbours=[()]\n",
    "        elif self.coordinate_x==1 and self.coordinate_y==self.height:\n",
    "            self.neighbours=[()]\n",
    "        elif self.coordinate_x==self.width and self.coordinate_y==1:\n",
    "            self.neighbours=[()]\n",
    "        elif self.coordinate_x==self.width and self.coordinate_y==self.height:\n",
    "            self.neighbours=[()]\n",
    "        elif self.coordiante_x==1 and 1 < self.coordinate_y < self.height:\n",
    "            self.neighbours=[()]\n",
    "        elif self.coordinate_x==self.width and 1 < self.coordinate_y < self.height:\n",
    "            self.neighbours=[()]\n",
    "        elif 1 < self.coordinate_x < "
   ]
  },
  {
   "cell_type": "code",
   "execution_count": 88,
   "id": "caring-fellowship",
   "metadata": {},
   "outputs": [
    {
     "data": {
      "text/plain": [
       "False"
      ]
     },
     "execution_count": 88,
     "metadata": {},
     "output_type": "execute_result"
    }
   ],
   "source": [
    "False ^ False"
   ]
  },
  {
   "cell_type": "code",
   "execution_count": 260,
   "id": "outer-arrow",
   "metadata": {},
   "outputs": [
    {
     "data": {
      "text/plain": [
       "[1, 3]"
      ]
     },
     "execution_count": 260,
     "metadata": {},
     "output_type": "execute_result"
    }
   ],
   "source": [
    "listx=[1,2,3]\n",
    "y=listx.pop(1)\n",
    "y\n",
    "listx"
   ]
  },
  {
   "cell_type": "code",
   "execution_count": 419,
   "id": "public-obligation",
   "metadata": {},
   "outputs": [
    {
     "data": {
      "text/plain": [
       "10"
      ]
     },
     "execution_count": 419,
     "metadata": {},
     "output_type": "execute_result"
    }
   ],
   "source": [
    "sum([1,4,5])"
   ]
  }
 ],
 "metadata": {
  "kernelspec": {
   "display_name": "Python 3",
   "language": "python",
   "name": "python3"
  },
  "language_info": {
   "codemirror_mode": {
    "name": "ipython",
    "version": 3
   },
   "file_extension": ".py",
   "mimetype": "text/x-python",
   "name": "python",
   "nbconvert_exporter": "python",
   "pygments_lexer": "ipython3",
   "version": "3.7.6"
  }
 },
 "nbformat": 4,
 "nbformat_minor": 5
}
