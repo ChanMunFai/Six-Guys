{
 "cells": [
  {
   "cell_type": "code",
   "execution_count": 186,
   "id": "rolled-distribution",
   "metadata": {},
   "outputs": [],
   "source": [
    "import itertools\n",
    "import random\n",
    "\n",
    "class Schelling:\n",
    "    \n",
    "    \n",
    "    def __init__(self, width, height, empty_ratio, similarity_threshold, n_iterations, races):\n",
    "        self.width=width\n",
    "        self.height=height\n",
    "        self.empty_ratio=empty_ratio\n",
    "        self.similarity_threshold=similarity_threshold\n",
    "        self.n_iterations=n_iterations\n",
    "        self.races=races\n",
    "        \n",
    "    def population(self):\n",
    "        self.empty_houses=[]\n",
    "        self.agents={}\n",
    "        self.a=list(range(1,self.width+1))\n",
    "        self.b=list(range(1,self.height+1))\n",
    "        self.all_houses=list(itertools.product(self.a,self.b))                     \n",
    "        random.shuffle(self.all_houses)\n",
    "        self.n_empty=round(self.empty_ratio*len(self.all_houses))\n",
    "        self.remaining_houses=self.all_houses[:len(self.all_houses)-self.n_empty]\n",
    "        self.race_list=list(range(1,self.races+1))\n",
    "        for i in range(len(self.remaining_houses)):   \n",
    "            random.shuffle(self.race_list)\n",
    "            self.chosen_one=self.race_list[0]\n",
    "            self.agents[self.remaining_houses[i]]=self.chosen_one\n",
    "        return self.agents\n",
    "        \n",
    "                             \n",
    "                            \n",
    "        \n",
    "        \n",
    "      \n",
    "        "
   ]
  },
  {
   "cell_type": "code",
   "execution_count": 203,
   "id": "former-general",
   "metadata": {},
   "outputs": [
    {
     "name": "stdout",
     "output_type": "stream",
     "text": [
      "{(2, 2): 67, (2, 3): 3, (1, 1): 68, (1, 3): 2, (3, 2): 28, (1, 2): 36, (2, 1): 31}\n"
     ]
    }
   ],
   "source": [
    "trial=Schelling(3,3,0.2,0.8,44,100)\n",
    "print(trial.population())"
   ]
  },
  {
   "cell_type": "code",
   "execution_count": 150,
   "id": "emotional-amendment",
   "metadata": {},
   "outputs": [
    {
     "data": {
      "text/plain": [
       "7"
      ]
     },
     "execution_count": 150,
     "metadata": {},
     "output_type": "execute_result"
    }
   ],
   "source": [
    "round(6.6)\n"
   ]
  },
  {
   "cell_type": "code",
   "execution_count": null,
   "id": "typical-classics",
   "metadata": {},
   "outputs": [],
   "source": [
    "  import itertools\n",
    "        itertools.product(list1,list2)\n",
    "        import random\n",
    "        random.shuffle(list)"
   ]
  },
  {
   "cell_type": "code",
   "execution_count": 114,
   "id": "actual-infrastructure",
   "metadata": {},
   "outputs": [
    {
     "name": "stdout",
     "output_type": "stream",
     "text": [
      "[3, 6, 1, 2, 7, 5, 4]\n"
     ]
    }
   ],
   "source": [
    "import random\n",
    "\n",
    "d = [1, 2, 3, 4, 5, 6, 7]\n",
    "random.shuffle(d)\n",
    "\n",
    "print(d)"
   ]
  }
 ],
 "metadata": {
  "kernelspec": {
   "display_name": "Python 3",
   "language": "python",
   "name": "python3"
  },
  "language_info": {
   "codemirror_mode": {
    "name": "ipython",
    "version": 3
   },
   "file_extension": ".py",
   "mimetype": "text/x-python",
   "name": "python",
   "nbconvert_exporter": "python",
   "pygments_lexer": "ipython3",
   "version": "3.7.6"
  }
 },
 "nbformat": 4,
 "nbformat_minor": 5
}
