{
 "cells": [
  {
   "cell_type": "code",
   "execution_count": 1,
   "metadata": {},
   "outputs": [],
   "source": [
    "import matplotlib.pyplot as plt\n",
    "import itertools\n",
    "import random\n",
    "import copy\n",
    "import numpy as np"
   ]
  },
  {
   "cell_type": "code",
   "execution_count": 2,
   "metadata": {},
   "outputs": [],
   "source": [
    "class Schelling:\n",
    "    \n",
    "    \n",
    "    def __init__(self, height, width, empty_ratio, similarity_threshold, n_iterations, races):\n",
    "        self.height = height\n",
    "        self.width = width\n",
    "        self.empty_ratio = empty_ratio\n",
    "        self.similarity_threshold = similarity_threshold\n",
    "        self.n_iterations = n_iterations\n",
    "        self.races = races\n",
    "        \n",
    "\n",
    "    def populate(self):\n",
    "        self.empty_houses = []\n",
    "        self.agents = {}\n",
    "        \n",
    "        self.all_houses = list(itertools.product(range(self.width),range(self.height)))\n",
    "        random.shuffle(self.all_houses)\n",
    "        self.n_empty = int(self.empty_ratio * len(self.all_houses))\n",
    "        self.empty_houses= self.all_houses[:self.n_empty]\n",
    "        self.remaining_houses = self.all_houses[self.n_empty:]\n",
    "        \n",
    "        #assign 'race(i)' to 'houses(i + i*number of races)'\n",
    "        houses_by_race = [self.remaining_houses[i::self.races] for i in range(self.races)]\n",
    "        \n",
    "        for i in range(self.races):\n",
    "            #if n houses assigend to race(i), then n number of value 'i+1' will be generate in list 'race_numb[i]'\n",
    "            race_numb = [i+1]*len(houses_by_race[i])\n",
    "            self.agents.update(zip(houses_by_race[i], race_numb))\n",
    "        \n",
    "    def plot_city(self):\n",
    "        fig, ax = plt.subplots(figsize=(self.width*0.5, self.height*0.5))\n",
    "        ax.set_xlim([-1, self.width-1])\n",
    "        ax.set_ylim([-1, self.height-1])\n",
    "        ax.set_xticks(np.arange(0, self.width, 1))\n",
    "        ax.set_yticks(np.arange(0, self.height, 1))\n",
    "        ax.xaxis.set_ticklabels([])\n",
    "        ax.xaxis.set_ticks_position('none')\n",
    "        ax.yaxis.set_ticklabels([])\n",
    "        ax.yaxis.set_ticks_position('none')\n",
    "        ax.grid()\n",
    "        cols = {0:'r', 1:'g', 2:'b', 3:'c', 4:'m', 5:'y', 6:'k'}           \n",
    "        for key, value in self.agents.items():           \n",
    "            x = key[0]-0.5\n",
    "            y = key[1]-0.5\n",
    "            ax.scatter(x, y, c=cols[value], marker='s', s=500)\n",
    "    \n",
    "    def is_unsatisfied(self, x, y):\n",
    "        race = self.agents[(x,y)]\n",
    "        same_race = 0\n",
    "        diff_race = 0\n",
    "        \n",
    "        if x > 0 and y > 0 and (x-1, y-1) not in self.empty_houses:\n",
    "            if self.agents[(x-1,y-1)] == race:\n",
    "                same_race += 1\n",
    "            else:\n",
    "                diff_race += 1\n",
    "            \n",
    "        if x > 0 and (x-1, y) not in self.empty_houses:\n",
    "            if self.agents[(x-1,y)] == race:\n",
    "                same_race += 1\n",
    "            else:\n",
    "                diff_race += 1\n",
    "        \n",
    "        if x > 0 and y < (self.width-1) and (x-1, y+1) not in self.empty_houses:\n",
    "            if self.agents[(x-1,y+1)] == race:\n",
    "                same_race += 1\n",
    "            else:\n",
    "                diff_race += 1\n",
    "            \n",
    "        if y > 0 and (x, y-1) not in self.empty_houses:\n",
    "            if self.agents[(x,y-1)] == race:\n",
    "                same_race += 1\n",
    "            else:\n",
    "                diff_race += 1\n",
    "        \n",
    "        if y < (self.width-1) and (x, y+1) not in self.empty_houses:\n",
    "            if self.agents[(x,y+1)] == race:\n",
    "                same_race += 1\n",
    "            else:\n",
    "                diff_race += 1\n",
    "            \n",
    "        if x < (self.height-1) and y > 0 and (x+1, y-1) not in self.empty_houses:\n",
    "            if self.agents[(x+1,y-1)] == race:\n",
    "                same_race += 1\n",
    "            else:\n",
    "                diff_race += 1\n",
    "        \n",
    "        if x < (self.height-1) and (x+1, y) not in self.empty_houses:\n",
    "            if self.agents[(x+1,y)] == race:\n",
    "                same_race += 1\n",
    "            else:\n",
    "                diff_race += 1\n",
    "            \n",
    "        if x < (self.height-1) and y < (self.width-1) and (x+1, y+1) not in self.empty_houses:\n",
    "            if self.agents[(x+1,y+1)] == race:\n",
    "                same_race += 1\n",
    "            else:\n",
    "                diff_race += 1\n",
    "                \n",
    "        if same_race + diff_race == 0:\n",
    "            return False\n",
    "        elif same_race/(same_race + diff_race) < self.similarity_threshold:\n",
    "            return True\n",
    "        else:\n",
    "            return False\n",
    "        \n",
    "    def update(self):\n",
    "        for i in range(self.n_iterations):\n",
    "            self.original_agents = copy.deepcopy(self.agents)\n",
    "            \n",
    "            for j in self.original_agents:\n",
    "                if self.is_unsatisfied(j[0],j[1]) == True:\n",
    "                    new_house = random.choice(self.empty_houses)\n",
    "                    self.agents[new_house] = self.agents[j]\n",
    "                    del self.agents[j]\n",
    "                    self.empty_houses.remove(new_house)\n",
    "                    self.empty_houses.append(j)\n",
    "            \n",
    "            if i==self.n_iterations-1:\n",
    "                self.plot_city()\n",
    "                \n",
    "                \n",
    "    def similarity(self):\n",
    "        similarity_each_race = []\n",
    "        for i in self.agents:\n",
    "        \n",
    "            x = i[0]\n",
    "            y = i[1]\n",
    "            race = self.agents[(x,y)]\n",
    "            same_race = 0\n",
    "            diff_race = 0\n",
    "        \n",
    "            if x > 0 and y > 0 and (x-1, y-1) not in self.empty_houses:\n",
    "                if self.agents[(x-1,y-1)] == race:\n",
    "                    same_race += 1\n",
    "                else:\n",
    "                    diff_race += 1\n",
    "            \n",
    "            if x > 0 and (x-1, y) not in self.empty_houses:\n",
    "                if self.agents[(x-1,y)] == race:\n",
    "                    same_race += 1\n",
    "                else:\n",
    "                    diff_race += 1\n",
    "        \n",
    "            if x > 0 and y < (self.width-1) and (x-1, y+1) not in self.empty_houses:\n",
    "                if self.agents[(x-1,y+1)] == race:\n",
    "                    same_race += 1\n",
    "                else:\n",
    "                    diff_race += 1\n",
    "            \n",
    "            if y > 0 and (x, y-1) not in self.empty_houses:\n",
    "                if self.agents[(x,y-1)] == race:\n",
    "                    same_race += 1\n",
    "                else:\n",
    "                    diff_race += 1\n",
    "        \n",
    "            if y < (self.width-1) and (x, y+1) not in self.empty_houses:\n",
    "                if self.agents[(x,y+1)] == race:\n",
    "                    same_race += 1\n",
    "                else:\n",
    "                    diff_race += 1\n",
    "            \n",
    "            if x < (self.height-1) and y > 0 and (x+1, y-1) not in self.empty_houses:\n",
    "                if self.agents[(x+1,y-1)] == race:\n",
    "                    same_race += 1\n",
    "                else:\n",
    "                    diff_race += 1\n",
    "        \n",
    "            if x < (self.height-1) and (x+1, y) not in self.empty_houses:\n",
    "                if self.agents[(x+1,y)] == race:\n",
    "                    same_race += 1\n",
    "                else:\n",
    "                    diff_race += 1\n",
    "            \n",
    "            if x < (self.height-1) and y < (self.width-1) and (x+1, y+1) not in self.empty_houses:\n",
    "                if self.agents[(x+1,y+1)] == race:\n",
    "                    same_race += 1\n",
    "                else:\n",
    "                    diff_race += 1\n",
    "                \n",
    "            similarity_each_race.append(float(same_race)/(same_race + diff_race))\n",
    "            return sum(similarity_each_race)/len(similarity_each_race)\n",
    "        \n",
    "               \n",
    "                \n",
    "\n",
    "        \n",
    "        \n",
    "            \n",
    "        \n",
    "                                    \n"
   ]
  },
  {
   "cell_type": "code",
   "execution_count": 3,
   "metadata": {},
   "outputs": [],
   "source": [
    "exmpl = Schelling(30,30,0.2,0.6,500,3)"
   ]
  },
  {
   "cell_type": "code",
   "execution_count": 4,
   "metadata": {
    "scrolled": true
   },
   "outputs": [
    {
     "name": "stdout",
     "output_type": "stream",
     "text": [
      "{(9, 18): 1, (13, 1): 1, (7, 4): 1, (1, 28): 1, (14, 20): 1, (1, 10): 1, (21, 24): 1, (5, 7): 1, (19, 13): 1, (14, 9): 1, (16, 20): 1, (17, 22): 1, (23, 16): 1, (15, 17): 1, (18, 24): 1, (0, 15): 1, (6, 22): 1, (9, 25): 1, (17, 9): 1, (23, 12): 1, (17, 8): 1, (16, 12): 1, (29, 23): 1, (23, 18): 1, (29, 28): 1, (3, 25): 1, (21, 7): 1, (21, 13): 1, (1, 17): 1, (29, 25): 1, (26, 27): 1, (10, 7): 1, (21, 9): 1, (27, 20): 1, (4, 19): 1, (11, 24): 1, (20, 9): 1, (24, 29): 1, (11, 23): 1, (8, 26): 1, (28, 11): 1, (1, 15): 1, (8, 1): 1, (10, 13): 1, (4, 7): 1, (11, 25): 1, (19, 21): 1, (10, 10): 1, (16, 6): 1, (3, 27): 1, (26, 4): 1, (27, 17): 1, (10, 28): 1, (25, 16): 1, (29, 13): 1, (2, 18): 1, (2, 8): 1, (18, 11): 1, (16, 5): 1, (22, 13): 1, (18, 7): 1, (11, 22): 1, (14, 13): 1, (18, 27): 1, (22, 16): 1, (6, 12): 1, (4, 27): 1, (27, 5): 1, (1, 5): 1, (0, 8): 1, (17, 14): 1, (20, 17): 1, (0, 11): 1, (27, 29): 1, (24, 5): 1, (6, 7): 1, (21, 11): 1, (8, 8): 1, (11, 7): 1, (13, 18): 1, (3, 13): 1, (8, 13): 1, (21, 29): 1, (28, 17): 1, (25, 24): 1, (18, 26): 1, (25, 9): 1, (17, 7): 1, (0, 4): 1, (25, 19): 1, (7, 27): 1, (3, 3): 1, (8, 9): 1, (7, 25): 1, (12, 16): 1, (5, 17): 1, (11, 11): 1, (13, 15): 1, (4, 9): 1, (11, 19): 1, (12, 21): 1, (8, 2): 1, (4, 10): 1, (7, 19): 1, (8, 10): 1, (2, 21): 1, (11, 2): 1, (5, 18): 1, (27, 0): 1, (20, 19): 1, (19, 10): 1, (4, 2): 1, (29, 27): 1, (25, 8): 1, (20, 28): 1, (25, 12): 1, (12, 17): 1, (16, 21): 1, (14, 3): 1, (4, 16): 1, (25, 4): 1, (27, 12): 1, (23, 8): 1, (16, 7): 1, (13, 29): 1, (9, 1): 1, (9, 17): 1, (16, 26): 1, (8, 18): 1, (7, 5): 1, (10, 12): 1, (4, 0): 1, (2, 29): 1, (6, 27): 1, (21, 23): 1, (22, 29): 1, (13, 9): 1, (0, 29): 1, (12, 22): 1, (0, 5): 1, (15, 1): 1, (15, 11): 1, (9, 0): 1, (12, 7): 1, (0, 20): 1, (18, 19): 1, (18, 12): 1, (9, 19): 1, (14, 2): 1, (29, 18): 1, (5, 11): 1, (5, 15): 1, (5, 2): 1, (12, 9): 1, (7, 23): 1, (0, 14): 1, (28, 21): 1, (4, 8): 1, (28, 28): 1, (9, 11): 1, (15, 4): 1, (0, 7): 1, (5, 25): 1, (27, 10): 1, (28, 25): 1, (11, 12): 1, (12, 0): 1, (11, 28): 1, (18, 2): 1, (20, 26): 1, (6, 19): 1, (27, 8): 1, (9, 26): 1, (1, 14): 1, (3, 17): 1, (4, 5): 1, (19, 25): 1, (24, 27): 1, (22, 19): 1, (8, 22): 1, (14, 27): 1, (25, 15): 1, (27, 6): 1, (29, 20): 1, (2, 0): 1, (28, 23): 1, (24, 18): 1, (1, 22): 1, (21, 22): 1, (20, 27): 1, (10, 9): 1, (15, 7): 1, (20, 14): 1, (25, 27): 1, (19, 12): 1, (9, 8): 1, (22, 24): 1, (15, 29): 1, (13, 19): 1, (5, 12): 1, (29, 22): 1, (24, 20): 1, (13, 17): 1, (23, 13): 1, (11, 6): 1, (9, 20): 1, (7, 1): 1, (12, 18): 1, (9, 16): 1, (7, 6): 1, (21, 15): 1, (6, 26): 1, (9, 22): 1, (17, 17): 1, (28, 18): 1, (23, 19): 1, (13, 20): 1, (2, 17): 1, (17, 0): 1, (8, 25): 1, (0, 28): 1, (7, 9): 1, (14, 8): 1, (24, 12): 1, (24, 21): 1, (10, 16): 1, (28, 0): 1, (25, 23): 1, (7, 0): 1, (3, 12): 1, (13, 14): 1, (6, 10): 1, (0, 16): 1, (19, 5): 1, (17, 1): 1, (1, 9): 1, (2, 20): 1, (27, 23): 1, (14, 10): 1, (3, 14): 1, (21, 6): 2, (14, 19): 2, (28, 26): 2, (4, 24): 2, (11, 16): 2, (26, 1): 2, (10, 17): 2, (12, 25): 2, (8, 20): 2, (5, 24): 2, (4, 18): 2, (9, 23): 2, (2, 1): 2, (4, 22): 2, (5, 22): 2, (12, 1): 2, (26, 17): 2, (28, 20): 2, (10, 24): 2, (15, 9): 2, (15, 25): 2, (4, 29): 2, (28, 9): 2, (19, 11): 2, (5, 13): 2, (14, 24): 2, (24, 15): 2, (6, 1): 2, (10, 2): 2, (7, 24): 2, (15, 10): 2, (20, 8): 2, (17, 29): 2, (12, 11): 2, (8, 23): 2, (29, 24): 2, (27, 28): 2, (13, 6): 2, (26, 23): 2, (16, 25): 2, (3, 15): 2, (1, 4): 2, (9, 27): 2, (1, 11): 2, (8, 6): 2, (29, 14): 2, (5, 3): 2, (11, 8): 2, (16, 28): 2, (18, 9): 2, (25, 14): 2, (10, 23): 2, (5, 28): 2, (3, 23): 2, (24, 17): 2, (21, 3): 2, (16, 11): 2, (5, 1): 2, (15, 19): 2, (8, 16): 2, (15, 28): 2, (21, 0): 2, (18, 6): 2, (20, 10): 2, (13, 10): 2, (0, 9): 2, (29, 17): 2, (23, 14): 2, (26, 3): 2, (26, 5): 2, (4, 21): 2, (2, 19): 2, (20, 15): 2, (29, 15): 2, (8, 15): 2, (15, 22): 2, (12, 5): 2, (6, 21): 2, (24, 25): 2, (23, 25): 2, (18, 1): 2, (3, 19): 2, (12, 15): 2, (5, 14): 2, (3, 29): 2, (1, 0): 2, (4, 13): 2, (27, 3): 2, (22, 8): 2, (6, 8): 2, (13, 5): 2, (14, 21): 2, (6, 6): 2, (0, 22): 2, (26, 10): 2, (11, 18): 2, (3, 10): 2, (13, 28): 2, (25, 10): 2, (28, 6): 2, (10, 1): 2, (26, 7): 2, (16, 15): 2, (16, 24): 2, (22, 12): 2, (11, 20): 2, (13, 25): 2, (22, 10): 2, (14, 26): 2, (5, 29): 2, (21, 18): 2, (27, 26): 2, (21, 2): 2, (12, 2): 2, (27, 4): 2, (18, 10): 2, (0, 2): 2, (28, 8): 2, (2, 5): 2, (6, 23): 2, (15, 24): 2, (0, 10): 2, (23, 2): 2, (15, 12): 2, (0, 12): 2, (0, 27): 2, (22, 17): 2, (13, 21): 2, (22, 22): 2, (26, 24): 2, (6, 4): 2, (21, 1): 2, (7, 18): 2, (6, 24): 2, (2, 12): 2, (22, 2): 2, (24, 11): 2, (11, 17): 2, (13, 2): 2, (17, 18): 2, (27, 7): 2, (16, 3): 2, (29, 9): 2, (11, 5): 2, (1, 20): 2, (20, 3): 2, (2, 28): 2, (4, 11): 2, (10, 22): 2, (25, 28): 2, (20, 16): 2, (0, 6): 2, (12, 10): 2, (25, 11): 2, (16, 18): 2, (27, 21): 2, (29, 12): 2, (14, 6): 2, (11, 0): 2, (19, 26): 2, (12, 14): 2, (25, 17): 2, (20, 5): 2, (29, 4): 2, (28, 14): 2, (19, 19): 2, (11, 3): 2, (23, 1): 2, (6, 2): 2, (29, 6): 2, (14, 1): 2, (3, 22): 2, (12, 29): 2, (5, 26): 2, (19, 27): 2, (20, 2): 2, (3, 0): 2, (14, 4): 2, (3, 20): 2, (19, 1): 2, (13, 12): 2, (20, 29): 2, (26, 2): 2, (14, 29): 2, (2, 27): 2, (14, 12): 2, (29, 26): 2, (7, 13): 2, (16, 29): 2, (10, 29): 2, (5, 27): 2, (11, 26): 2, (18, 28): 2, (27, 27): 2, (2, 9): 2, (20, 20): 2, (28, 10): 2, (7, 11): 2, (0, 0): 2, (12, 28): 2, (25, 13): 2, (8, 21): 2, (22, 4): 2, (29, 21): 2, (21, 20): 2, (12, 23): 2, (17, 5): 2, (22, 27): 2, (18, 4): 2, (4, 25): 2, (23, 24): 2, (18, 8): 2, (9, 21): 2, (13, 7): 2, (14, 7): 2, (18, 25): 2, (26, 22): 2, (17, 24): 2, (6, 14): 2, (1, 12): 2, (13, 26): 2, (24, 14): 2, (8, 19): 2, (5, 6): 2, (20, 22): 2, (6, 13): 2, (5, 9): 2, (18, 29): 2, (8, 5): 2, (22, 25): 2, (9, 6): 2, (2, 4): 2, (16, 4): 2, (16, 23): 2, (29, 1): 2, (28, 3): 2, (1, 1): 2, (6, 28): 2, (26, 0): 2, (0, 24): 2, (1, 7): 3, (22, 1): 3, (18, 3): 3, (14, 28): 3, (2, 2): 3, (27, 9): 3, (16, 27): 3, (4, 14): 3, (8, 12): 3, (25, 7): 3, (19, 28): 3, (9, 10): 3, (15, 0): 3, (17, 20): 3, (2, 14): 3, (1, 25): 3, (12, 19): 3, (14, 0): 3, (8, 28): 3, (2, 10): 3, (3, 21): 3, (17, 16): 3, (18, 21): 3, (16, 17): 3, (11, 1): 3, (28, 24): 3, (25, 26): 3, (19, 0): 3, (12, 20): 3, (0, 25): 3, (2, 23): 3, (23, 3): 3, (9, 15): 3, (10, 6): 3, (23, 20): 3, (20, 12): 3, (28, 29): 3, (25, 0): 3, (24, 13): 3, (29, 19): 3, (17, 12): 3, (2, 22): 3, (23, 28): 3, (23, 27): 3, (21, 10): 3, (17, 13): 3, (10, 14): 3, (9, 9): 3, (18, 14): 3, (5, 23): 3, (12, 6): 3, (24, 19): 3, (24, 6): 3, (11, 21): 3, (21, 19): 3, (2, 11): 3, (28, 1): 3, (17, 6): 3, (24, 0): 3, (5, 5): 3, (16, 8): 3, (22, 0): 3, (2, 15): 3, (1, 2): 3, (5, 20): 3, (14, 22): 3, (1, 24): 3, (6, 9): 3, (10, 8): 3, (3, 1): 3, (16, 14): 3, (13, 16): 3, (20, 21): 3, (14, 17): 3, (26, 9): 3, (10, 4): 3, (20, 1): 3, (6, 29): 3, (24, 26): 3, (1, 23): 3, (15, 8): 3, (0, 18): 3, (7, 12): 3, (27, 25): 3, (1, 8): 3, (25, 6): 3, (26, 25): 3, (17, 15): 3, (6, 5): 3, (19, 24): 3, (26, 12): 3, (29, 8): 3, (4, 4): 3, (4, 20): 3, (21, 25): 3, (24, 2): 3, (15, 27): 3, (3, 11): 3, (7, 20): 3, (9, 4): 3, (23, 7): 3, (10, 20): 3, (2, 16): 3, (28, 12): 3, (19, 29): 3, (0, 1): 3, (26, 8): 3, (22, 7): 3, (13, 27): 3, (22, 14): 3, (26, 15): 3, (9, 24): 3, (25, 29): 3, (21, 17): 3, (7, 7): 3, (9, 14): 3, (16, 19): 3, (19, 15): 3, (7, 14): 3, (17, 11): 3, (7, 26): 3, (15, 13): 3, (2, 7): 3, (27, 1): 3, (25, 3): 3, (29, 2): 3, (18, 15): 3, (7, 28): 3, (5, 21): 3, (15, 21): 3, (27, 15): 3, (23, 5): 3, (16, 0): 3, (23, 10): 3, (8, 29): 3, (4, 28): 3, (26, 26): 3, (17, 26): 3, (19, 6): 3, (22, 18): 3, (15, 23): 3, (9, 13): 3, (10, 26): 3, (23, 29): 3, (14, 25): 3, (13, 11): 3, (19, 22): 3, (12, 24): 3, (8, 7): 3, (25, 18): 3, (29, 3): 3, (26, 28): 3, (3, 9): 3, (0, 13): 3, (29, 7): 3, (22, 21): 3, (11, 14): 3, (0, 19): 3, (19, 4): 3, (20, 13): 3, (20, 0): 3, (7, 29): 3, (14, 16): 3, (16, 9): 3, (3, 4): 3, (7, 21): 3, (4, 12): 3, (25, 22): 3, (8, 11): 3, (9, 28): 3, (3, 18): 3, (10, 25): 3, (23, 23): 3, (15, 6): 3, (26, 11): 3, (13, 0): 3, (6, 15): 3, (1, 3): 3, (19, 7): 3, (28, 19): 3, (29, 10): 3, (0, 3): 3, (24, 16): 3, (17, 3): 3, (7, 22): 3, (27, 18): 3, (27, 11): 3, (18, 16): 3, (11, 4): 3, (12, 13): 3, (1, 13): 3, (21, 14): 3, (23, 6): 3, (10, 19): 3, (28, 27): 3, (1, 18): 3, (2, 24): 3, (27, 14): 3, (25, 25): 3, (5, 16): 3, (9, 29): 3, (27, 24): 3, (19, 18): 3, (29, 0): 3, (27, 22): 3, (29, 16): 3, (15, 2): 3, (4, 3): 3, (17, 19): 3, (22, 9): 3, (1, 27): 3, (14, 23): 3, (4, 17): 3, (28, 5): 3, (26, 29): 3, (22, 11): 3, (14, 14): 3, (4, 23): 3, (12, 27): 3, (7, 16): 3, (24, 10): 3, (20, 7): 3, (16, 1): 3, (22, 26): 3, (24, 24): 3, (20, 11): 3, (26, 16): 3, (15, 14): 3, (6, 17): 3, (13, 24): 3, (24, 1): 3, (3, 8): 3, (18, 23): 3, (13, 8): 3, (19, 14): 3, (8, 27): 3, (15, 5): 3, (13, 13): 3, (23, 4): 3, (7, 3): 3}\n"
     ]
    }
   ],
   "source": [
    "exmpl.populate()\n",
    "print(exmpl.agents)"
   ]
  },
  {
   "cell_type": "code",
   "execution_count": 5,
   "metadata": {},
   "outputs": [
    {
     "data": {
      "image/png": "[encoded data removed]",
      "text/plain": [
       "<Figure size 1080x1080 with 1 Axes>"
      ]
     },
     "metadata": {
      "needs_background": "light"
     },
     "output_type": "display_data"
    }
   ],
   "source": [
    "exmpl.plot_city()"
   ]
  },
  {
   "cell_type": "code",
   "execution_count": 6,
   "metadata": {
    "scrolled": true
   },
   "outputs": [
    {
     "data": {
      "image/png": "[encoded data removed]",
      "text/plain": [
       "<Figure size 1080x1080 with 1 Axes>"
      ]
     },
     "metadata": {
      "needs_background": "light"
     },
     "output_type": "display_data"
    }
   ],
   "source": [
    "exmpl.update()"
   ]
  },
  {
   "cell_type": "code",
   "execution_count": 7,
   "metadata": {},
   "outputs": [
    {
     "data": {
      "text/plain": [
       "1.0"
      ]
     },
     "execution_count": 7,
     "metadata": {},
     "output_type": "execute_result"
    }
   ],
   "source": [
    "exmpl.similarity()"
   ]
  }
 ],
 "metadata": {
  "kernelspec": {
   "display_name": "Python 3",
   "language": "python",
   "name": "python3"
  },
  "language_info": {
   "codemirror_mode": {
    "name": "ipython",
    "version": 3
   },
   "file_extension": ".py",
   "mimetype": "text/x-python",
   "name": "python",
   "nbconvert_exporter": "python",
   "pygments_lexer": "ipython3",
   "version": "3.8.5"
  }
 },
 "nbformat": 4,
 "nbformat_minor": 4
}
