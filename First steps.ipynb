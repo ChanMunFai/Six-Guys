{
 "cells": [
  {
   "cell_type": "code",
   "execution_count": 6,
   "metadata": {},
   "outputs": [],
   "source": [
    "import matplotlib.pyplot as plt\n",
    "import itertools\n",
    "import random\n",
    "import copy"
   ]
  },
  {
   "cell_type": "code",
   "execution_count": 91,
   "metadata": {},
   "outputs": [],
   "source": [
    "class Schelling:\n",
    "    def __init__(self, width, height, empty_ratio, similarity_threshold, n_iterations, races):\n",
    "        self.width = width\n",
    "        self.height = height\n",
    "        self.empty_ratio = empty_ratio\n",
    "        self.similarity_threshold = similarity_threshold\n",
    "        self.n_iterations = n_iterations\n",
    "        self.races = races\n",
    "        \n",
    "    \n",
    "def populate(self):\n",
    "    self.empty_houses = []\n",
    "    self.agents = {}\n",
    "    w = list(range(1,self.width+1))\n",
    "    h = list(range(1,self.height+1))\n",
    "    self.all_houses = list(itertools.product(w,h))\n",
    "    random.shuffle(self.all_houses)\n",
    "    self.n_empty = self.empty_ratio * self.width * self.height\n",
    "    self.remaining = (self.width * self.height) - self.n_empty\n",
    "    self.empty_houses = self.all_houses[int(self.remaining):]\n",
    "    self.remaining_houses = self.all_houses[:int(self.remaining+1)]\n",
    "    self.houses_per_race = (self.remaining / self.races) +1\n",
    "    self.r = range(int(self.houses_per_race))\n",
    "    self.houses_by_races = []\n",
    "    for i in self.r:\n",
    "        self.beginning = i * self.races\n",
    "        self.end = self.beginning + self.races\n",
    "        self.houses_by_races.append(list(zip(self.remaining_houses[int(self.beginning):int(self.end)],range(self.races))))"
   ]
  },
  {
   "cell_type": "code",
   "execution_count": null,
   "metadata": {},
   "outputs": [],
   "source": []
  },
  {
   "cell_type": "code",
   "execution_count": null,
   "metadata": {},
   "outputs": [],
   "source": []
  }
 ],
 "metadata": {
  "kernelspec": {
   "display_name": "Python 3",
   "language": "python",
   "name": "python3"
  },
  "language_info": {
   "codemirror_mode": {
    "name": "ipython",
    "version": 3
   },
   "file_extension": ".py",
   "mimetype": "text/x-python",
   "name": "python",
   "nbconvert_exporter": "python",
   "pygments_lexer": "ipython3",
   "version": "3.8.5"
  }
 },
 "nbformat": 4,
 "nbformat_minor": 4
}
